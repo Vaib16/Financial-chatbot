{
 "cells": [
  {
   "cell_type": "code",
   "execution_count": 2,
   "id": "aa97ccda-7ca7-4d54-af86-e762e338d6ef",
   "metadata": {},
   "outputs": [
    {
     "data": {
      "text/html": [
       "<div>\n",
       "<style scoped>\n",
       "    .dataframe tbody tr th:only-of-type {\n",
       "        vertical-align: middle;\n",
       "    }\n",
       "\n",
       "    .dataframe tbody tr th {\n",
       "        vertical-align: top;\n",
       "    }\n",
       "\n",
       "    .dataframe thead th {\n",
       "        text-align: right;\n",
       "    }\n",
       "</style>\n",
       "<table border=\"1\" class=\"dataframe\">\n",
       "  <thead>\n",
       "    <tr style=\"text-align: right;\">\n",
       "      <th></th>\n",
       "      <th>period</th>\n",
       "      <th>total_revenue</th>\n",
       "      <th>net_income</th>\n",
       "      <th>gross_margin_pct</th>\n",
       "      <th>opex</th>\n",
       "      <th>cash_and_equivalents</th>\n",
       "    </tr>\n",
       "  </thead>\n",
       "  <tbody>\n",
       "    <tr>\n",
       "      <th>0</th>\n",
       "      <td>2023</td>\n",
       "      <td>125000000</td>\n",
       "      <td>9000000</td>\n",
       "      <td>54.2</td>\n",
       "      <td>51000000</td>\n",
       "      <td>33000000</td>\n",
       "    </tr>\n",
       "    <tr>\n",
       "      <th>1</th>\n",
       "      <td>2024</td>\n",
       "      <td>137000000</td>\n",
       "      <td>12100000</td>\n",
       "      <td>55.6</td>\n",
       "      <td>52050000</td>\n",
       "      <td>41200000</td>\n",
       "    </tr>\n",
       "  </tbody>\n",
       "</table>\n",
       "</div>"
      ],
      "text/plain": [
       "   period  total_revenue  net_income  gross_margin_pct      opex  \\\n",
       "0    2023      125000000     9000000              54.2  51000000   \n",
       "1    2024      137000000    12100000              55.6  52050000   \n",
       "\n",
       "   cash_and_equivalents  \n",
       "0              33000000  \n",
       "1              41200000  "
      ]
     },
     "execution_count": 2,
     "metadata": {},
     "output_type": "execute_result"
    }
   ],
   "source": [
    "import pandas as pd\n",
    "from io import StringIO\n",
    "\n",
    "csv_data = \"\"\"period,total_revenue,net_income,gross_margin_pct,opex,cash_and_equivalents\n",
    "2023,125000000,9000000,54.2,51000000,33000000\n",
    "2024,137000000,12100000,55.6,52050000,41200000\n",
    "\"\"\"\n",
    "\n",
    "df = pd.read_csv(StringIO(csv_data))\n",
    "df\n"
   ]
  },
  {
   "cell_type": "code",
   "execution_count": 3,
   "id": "3b7e0c55-ab4f-4049-89fb-4114db55bace",
   "metadata": {},
   "outputs": [],
   "source": [
    "class DataStore:\n",
    "    def __init__(self, df: pd.DataFrame):\n",
    "        self.df = df.sort_values(\"period\").reset_index(drop=True)\n",
    "\n",
    "    def latest(self):\n",
    "        return self.df.iloc[-1].to_dict()\n",
    "\n",
    "    def latest_and_prev(self):\n",
    "        latest = self.df.iloc[-1].to_dict()\n",
    "        prev = self.df.iloc[-2].to_dict() if len(self.df) > 1 else None\n",
    "        return latest, prev\n"
   ]
  },
  {
   "cell_type": "code",
   "execution_count": 4,
   "id": "216b7706-e103-4de8-a0be-854ded16e10a",
   "metadata": {},
   "outputs": [],
   "source": [
    "def fmt_currency(x: float) -> str:\n",
    "    return f\"${x:,.0f}\"\n",
    "\n",
    "def fmt_pct(x: float) -> str:\n",
    "    return f\"{x:.1f}%\"\n",
    "\n",
    "def make_handlers(store):\n",
    "    def total_revenue(_: str) -> str:\n",
    "        latest = store.latest()\n",
    "        return f\"Total revenue: {fmt_currency(latest['total_revenue'])} (period {latest['period']}).\"\n",
    "\n",
    "    def net_income_change(_: str) -> str:\n",
    "        latest, prev = store.latest_and_prev()\n",
    "        if not prev:\n",
    "            return \"Not enough data to calculate change.\"\n",
    "        delta = latest['net_income'] - prev['net_income']\n",
    "        pct = (delta / prev['net_income'] * 100) if prev['net_income'] else 0\n",
    "        direction = \"increased\" if delta >= 0 else \"decreased\"\n",
    "        return (f\"Net income {direction} by {fmt_currency(abs(delta))} \"\n",
    "                f\"({pct:.1f}%) from {prev['period']} to {latest['period']}.\")\n",
    "\n",
    "    def gross_margin(_: str) -> str:\n",
    "        latest = store.latest()\n",
    "        return f\"Gross margin: {fmt_pct(latest['gross_margin_pct'])} (period {latest['period']}).\"\n",
    "\n",
    "    def opex(_: str) -> str:\n",
    "        latest = store.latest()\n",
    "        return f\"Operating expenses: {fmt_currency(latest['opex'])} (period {latest['period']}).\"\n",
    "\n",
    "    def cash_on_hand(_: str) -> str:\n",
    "        latest = store.latest()\n",
    "        return f\"Cash on hand: {fmt_currency(latest['cash_and_equivalents'])} (period {latest['period']}).\"\n",
    "\n",
    "    return {\n",
    "        \"what is the total revenue?\": total_revenue,\n",
    "        \"how has net income changed over the last year?\": net_income_change,\n",
    "        \"what is the gross margin?\": gross_margin,\n",
    "        \"what are operating expenses?\": opex,\n",
    "        \"what is cash on hand?\": cash_on_hand,\n",
    "    }\n"
   ]
  },
  {
   "cell_type": "code",
   "execution_count": 5,
   "id": "63cec4a0-f208-461e-934b-3518415d987e",
   "metadata": {},
   "outputs": [],
   "source": [
    "class SimpleChatbot:\n",
    "    def __init__(self, store):\n",
    "        self.handlers = make_handlers(store)\n",
    "        self.supported = list(self.handlers.keys())\n",
    "\n",
    "    def normalize(self, q: str) -> str:\n",
    "        return q.strip().lower()\n",
    "\n",
    "    def reply(self, user_query: str) -> str:\n",
    "        key = self.normalize(user_query)\n",
    "        handler = self.handlers.get(key)\n",
    "        if handler:\n",
    "            return handler(user_query)\n",
    "        return (\"Sorry, I can only answer predefined queries. \"\n",
    "                f\"Try: {', '.join(self.supported)}\")\n"
   ]
  },
  {
   "cell_type": "code",
   "execution_count": 6,
   "id": "2f52dfdf-329f-4c89-a681-9d487e9ec752",
   "metadata": {},
   "outputs": [
    {
     "name": "stdout",
     "output_type": "stream",
     "text": [
      "Total revenue: $137,000,000 (period 2024.0).\n",
      "Net income increased by $3,100,000 (34.4%) from 2023.0 to 2024.0.\n",
      "Cash on hand: $41,200,000 (period 2024.0).\n",
      "Sorry, I can only answer predefined queries. Try: what is the total revenue?, how has net income changed over the last year?, what is the gross margin?, what are operating expenses?, what is cash on hand?\n"
     ]
    }
   ],
   "source": [
    "store = DataStore(df)\n",
    "bot = SimpleChatbot(store)\n",
    "\n",
    "# Example interactions\n",
    "print(bot.reply(\"What is the total revenue?\"))\n",
    "print(bot.reply(\"How has net income changed over the last year?\"))\n",
    "print(bot.reply(\"What is cash on hand?\"))\n",
    "print(bot.reply(\"Who is the CEO?\"))  # fallback example\n"
   ]
  },
  {
   "cell_type": "code",
   "execution_count": null,
   "id": "c2ba4a56-bca5-4905-a761-e29eff719f56",
   "metadata": {},
   "outputs": [
    {
     "name": "stdout",
     "output_type": "stream",
     "text": [
      "Financial Chatbot. Type a query or 'exit'.\n"
     ]
    },
    {
     "name": "stdin",
     "output_type": "stream",
     "text": [
      ">  What is the total revenue?\n"
     ]
    },
    {
     "name": "stdout",
     "output_type": "stream",
     "text": [
      "Total revenue: $137,000,000 (period 2024.0).\n"
     ]
    }
   ],
   "source": [
    "# Run this after you've created `bot`.\n",
    "print(\"Financial Chatbot. Type a query or 'exit'.\")\n",
    "while True:\n",
    "    try:\n",
    "        user_q = input(\"> \")\n",
    "    except EOFError:\n",
    "        break\n",
    "    if user_q.strip().lower() in {\"exit\", \"quit\"}:\n",
    "        break\n",
    "    print(bot.reply(user_q))\n"
   ]
  },
  {
   "cell_type": "code",
   "execution_count": null,
   "id": "108e8031-9e14-42fc-9e05-5b95747b6c4e",
   "metadata": {},
   "outputs": [],
   "source": []
  },
  {
   "cell_type": "code",
   "execution_count": null,
   "id": "ece3e1b5-c8db-4ac9-89e2-6730670e4f88",
   "metadata": {},
   "outputs": [],
   "source": []
  },
  {
   "cell_type": "code",
   "execution_count": null,
   "id": "fbb48f95-0de2-4a22-9388-cbe61d7b7384",
   "metadata": {},
   "outputs": [],
   "source": []
  },
  {
   "cell_type": "code",
   "execution_count": null,
   "id": "6ff86c91-7f55-4754-b901-5e208e911c18",
   "metadata": {},
   "outputs": [],
   "source": []
  },
  {
   "cell_type": "code",
   "execution_count": null,
   "id": "3b445452-91b7-4635-96a2-69c2d23239fd",
   "metadata": {},
   "outputs": [],
   "source": []
  },
  {
   "cell_type": "code",
   "execution_count": null,
   "id": "6d523a1c-a592-4f1e-a0a2-5d2e7800be53",
   "metadata": {},
   "outputs": [],
   "source": []
  },
  {
   "cell_type": "code",
   "execution_count": null,
   "id": "12aa93e6-4b45-455b-b343-856c9cb85091",
   "metadata": {},
   "outputs": [],
   "source": []
  },
  {
   "cell_type": "code",
   "execution_count": null,
   "id": "70854cb4-681e-492a-ae38-5f65bd0ef4e5",
   "metadata": {},
   "outputs": [],
   "source": []
  },
  {
   "cell_type": "code",
   "execution_count": null,
   "id": "ee00753c-de0c-43ae-920a-5b7d922a4b5b",
   "metadata": {},
   "outputs": [],
   "source": []
  },
  {
   "cell_type": "code",
   "execution_count": null,
   "id": "5c9269fc-8a00-41fb-9881-a8a48a7b03ee",
   "metadata": {},
   "outputs": [],
   "source": []
  },
  {
   "cell_type": "code",
   "execution_count": null,
   "id": "f89eeb1b-d42a-4550-bcb8-3d24b1900cc1",
   "metadata": {},
   "outputs": [],
   "source": []
  },
  {
   "cell_type": "code",
   "execution_count": null,
   "id": "388e68a0-8108-4e52-9e88-f032d29dcc26",
   "metadata": {},
   "outputs": [],
   "source": []
  }
 ],
 "metadata": {
  "kernelspec": {
   "display_name": "Python 3 (ipykernel)",
   "language": "python",
   "name": "python3"
  },
  "language_info": {
   "codemirror_mode": {
    "name": "ipython",
    "version": 3
   },
   "file_extension": ".py",
   "mimetype": "text/x-python",
   "name": "python",
   "nbconvert_exporter": "python",
   "pygments_lexer": "ipython3",
   "version": "3.12.4"
  }
 },
 "nbformat": 4,
 "nbformat_minor": 5
}
